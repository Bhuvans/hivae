{
 "cells": [
  {
   "cell_type": "code",
   "execution_count": 1,
   "metadata": {},
   "outputs": [],
   "source": [
    "import sys\n",
    "import tensorflow as tf\n",
    "import time\n",
    "import numpy as np\n",
    "import os\n",
    "import pandas as pd\n",
    "import parser_arguments"
   ]
  },
  {
   "cell_type": "code",
   "execution_count": 2,
   "metadata": {},
   "outputs": [],
   "source": [
    "# args = parser_arguments.getArgs(sys.argv[1:])\n",
    "args = parser_arguments.getArgs_jupyter_notebook()"
   ]
  },
  {
   "cell_type": "code",
   "execution_count": 3,
   "metadata": {},
   "outputs": [],
   "source": [
    "if not os.path.exists('./Saved_Networks/'+args.save_file):\n",
    "    os.makedirs('./Saved_Networks/'+args.save_file)"
   ]
  },
  {
   "cell_type": "code",
   "execution_count": 4,
   "metadata": {},
   "outputs": [],
   "source": [
    "network_file_name = './Saved_Networks/' + args.save_file + '/' + args.save_file + '.ckpt'\n",
    "log_file_name = './Saved_Networks' + args.save_file + '/log_file_' + args.save_file + '.txt'"
   ]
  },
  {
   "cell_type": "code",
   "execution_count": 5,
   "metadata": {},
   "outputs": [
    {
     "name": "stdout",
     "output_type": "stream",
     "text": [
      "{'batch_size': 200, 'epochs': 501, 'perp': 10, 'train': 1, 'display': 1, 'save': 1000, 'restore': 0, 'plot': 1, 'dim_latent_s': 10, 'dim_latent_z': 2, 'dim_latent_y': 10, 'dim_latent_y_partition': [32, 32], 'miss_perentage_train': 0.0, 'miss_percentage_test': 0.0, 'model_name': 'model_new', 'save_file': 'breast_data_zdim5_ydim10_4images_', 'data_file': './Breast/data.csv', 'types_file': './Breast/data_types.csv', 'miss_file': 'Missing_test.csv', 'true_miss_file': ''}\n"
     ]
    }
   ],
   "source": [
    "print(args)"
   ]
  },
  {
   "cell_type": "code",
   "execution_count": 12,
   "metadata": {},
   "outputs": [
    {
     "name": "stdout",
     "output_type": "stream",
     "text": [
      "<built-in method keys of collections.OrderedDict object at 0x000001F0061F45E8>\n",
      "<built-in method values of collections.OrderedDict object at 0x000001F0061F45E8>\n",
      "<built-in method keys of collections.OrderedDict object at 0x000001F01F191EE8>\n",
      "<built-in method values of collections.OrderedDict object at 0x000001F01F191EE8>\n",
      "<built-in method keys of collections.OrderedDict object at 0x000001F02373D1F8>\n",
      "<built-in method values of collections.OrderedDict object at 0x000001F02373D1F8>\n",
      "<built-in method keys of collections.OrderedDict object at 0x000001F02373D4C8>\n",
      "<built-in method values of collections.OrderedDict object at 0x000001F02373D4C8>\n",
      "<built-in method keys of collections.OrderedDict object at 0x000001F02373D798>\n",
      "<built-in method values of collections.OrderedDict object at 0x000001F02373D798>\n",
      "<built-in method keys of collections.OrderedDict object at 0x000001F02373DA68>\n",
      "<built-in method values of collections.OrderedDict object at 0x000001F02373DA68>\n",
      "<built-in method keys of collections.OrderedDict object at 0x000001F02373DD38>\n",
      "<built-in method values of collections.OrderedDict object at 0x000001F02373DD38>\n",
      "<built-in method keys of collections.OrderedDict object at 0x000001F023740048>\n",
      "<built-in method values of collections.OrderedDict object at 0x000001F023740048>\n",
      "<built-in method keys of collections.OrderedDict object at 0x000001F023740318>\n",
      "<built-in method values of collections.OrderedDict object at 0x000001F023740318>\n",
      "<built-in method keys of collections.OrderedDict object at 0x000001F0237405E8>\n",
      "<built-in method values of collections.OrderedDict object at 0x000001F0237405E8>\n"
     ]
    }
   ],
   "source": [
    "import csv\n",
    "types_dict = dict()\n",
    "f = open(args.types_file)"
   ]
  },
  {
   "cell_type": "code",
   "execution_count": null,
   "metadata": {},
   "outputs": [],
   "source": []
  }
 ],
 "metadata": {
  "kernelspec": {
   "display_name": "Python 3",
   "language": "python",
   "name": "python3"
  },
  "language_info": {
   "codemirror_mode": {
    "name": "ipython",
    "version": 3
   },
   "file_extension": ".py",
   "mimetype": "text/x-python",
   "name": "python",
   "nbconvert_exporter": "python",
   "pygments_lexer": "ipython3",
   "version": "3.7.6"
  }
 },
 "nbformat": 4,
 "nbformat_minor": 4
}
